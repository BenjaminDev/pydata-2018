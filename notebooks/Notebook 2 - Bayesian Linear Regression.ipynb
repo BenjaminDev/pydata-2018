{
 "cells": [
  {
   "cell_type": "markdown",
   "metadata": {},
   "source": [
    "# Bayesian Linear Regression\n",
    "\n",
    "Bayesian Linear Regression covers regression which is Linear in the parameters. Using a basic function, $\\phi(x)$ we can trivially include 'non-linear' functions under the bracket of Linear Regression.\n",
    "\n",
    "## The Model\n",
    "\n",
    "We model the weights, $\\mathbf{W}$, as having a prior Normal distribution.\n",
    "\n",
    "$\\mathbf{W} \\sim \\mathcal{N}(0, \\alpha^{-1}\\mathbf{I})$\n",
    "\n",
    "$\\mathbf{y} \\sim \\mathcal{N}(\\Phi \\mathbf{W}, \\beta^{-1} \\mathbf{I})$\n",
    "\n",
    "Where $\\Phi$ is the matrix of basis functions (rows correspond to samples, columns to features)."
   ]
  },
  {
   "cell_type": "markdown",
   "metadata": {},
   "source": [
    "## Inference\n",
    "\n",
    "This is a conjugate model, so we know $P(\\mathbf{W} \\mid \\mathbf{y}, \\mathbf{X})$ is also a Normal distribution.\n",
    "\n",
    "We can find this by first recognizing $P(\\mathbf{W}, \\mathbf{y} \\mid \\mathbf{X}) \\propto P(\\mathbf{W}\\mid \\mathbf{y} , \\mathbf{X})$, and discarding terms terms independent of $\\mathbf{W}$, combining what remains into a normal, and renormalizing (see PRML Bishop for more details).\n",
    "\n",
    "Doing this gives us:\n",
    "\n",
    "$P(\\mathbf{W} \\mid \\mathbf{y}, \\mathbf{X}) = \\mathcal{N}(\\mathbf{\\mu}, \\mathbf{\\Sigma})$\n",
    "\n",
    "$\\Sigma = (\\alpha \\mathbf{I} + \\beta \\mathbf{\\Phi}^{T}\\mathbf{\\Phi})^{-1}$<br/>\n",
    "$\\mu = \\beta \\Sigma \\mathbf{\\Phi}^{T} \\mathbf{y}$"
   ]
  },
  {
   "cell_type": "markdown",
   "metadata": {},
   "source": [
    "## Generating Data"
   ]
  },
  {
   "cell_type": "code",
   "execution_count": 4,
   "metadata": {},
   "outputs": [],
   "source": [
    "import numpy as np\n",
    "import matplotlib.pyplot as plt\n",
    "%matplotlib inline"
   ]
  },
  {
   "cell_type": "code",
   "execution_count": 23,
   "metadata": {},
   "outputs": [],
   "source": [
    "x = np.random.uniform(low=-3, high=5, size=(40,1))\n",
    "y = 0.1*x**3 - 3*x + 2 + np.random.normal(scale=0.3, size=x.shape)"
   ]
  },
  {
   "cell_type": "code",
   "execution_count": 24,
   "metadata": {},
   "outputs": [
    {
     "data": {
      "text/plain": [
       "<matplotlib.collections.PathCollection at 0x7f086304d278>"
      ]
     },
     "execution_count": 24,
     "metadata": {},
     "output_type": "execute_result"
    },
    {
     "data": {
      "image/png": "[encoded data removed]",
      "text/plain": [
       "<matplotlib.figure.Figure at 0x7f08630b36a0>"
      ]
     },
     "metadata": {},
     "output_type": "display_data"
    }
   ],
   "source": [
    "plt.scatter(x,y)"
   ]
  },
  {
   "cell_type": "code",
   "execution_count": 25,
   "metadata": {},
   "outputs": [],
   "source": [
    "def phi(x):\n",
    "    design_matrix = np.concatenate([np.ones(x.shape), x, x**2, x**3], axis=1)\n",
    "    return design_matrix\n",
    "    "
   ]
  },
  {
   "cell_type": "code",
   "execution_count": 26,
   "metadata": {},
   "outputs": [
    {
     "name": "stdout",
     "output_type": "stream",
     "text": [
      "(40, 1) (40, 4)\n"
     ]
    }
   ],
   "source": [
    "print(x.shape, phi(x).shape)"
   ]
  },
  {
   "cell_type": "markdown",
   "metadata": {},
   "source": [
    "## Model\n",
    "\n"
   ]
  },
  {
   "cell_type": "code",
   "execution_count": 28,
   "metadata": {},
   "outputs": [],
   "source": [
    "alpha = 1\n",
    "beta = 1/0.4\n",
    "\n",
    "posterior_precision =alpha * np.identity(phi(x).shape[1])+ beta * np.dot(phi(x).T, phi(x))\n",
    "posterior_mean = beta * np.dot(np.linalg.inv(posterior_precision),np.dot(phi(x).T, y))"
   ]
  },
  {
   "cell_type": "code",
   "execution_count": 41,
   "metadata": {},
   "outputs": [
    {
     "data": {
      "image/png": "[encoded data removed]",
      "text/plain": [
       "<matplotlib.figure.Figure at 0x7f0862b0b240>"
      ]
     },
     "metadata": {},
     "output_type": "display_data"
    }
   ],
   "source": [
    "plt.scatter(x,y, c='k')\n",
    "ar = np.arange(-3,5, 0.1).reshape(-1,1)\n",
    "for i in range(4):\n",
    "    w_sample = np.random.multivariate_normal(posterior_mean.ravel(), \n",
    "                                             np.linalg.inv(posterior_precision))\n",
    "    plt.plot(ar, np.dot(phi(ar), w_sample), c='r')"
   ]
  },
  {
   "cell_type": "code",
   "execution_count": null,
   "metadata": {},
   "outputs": [],
   "source": []
  }
 ],
 "metadata": {
  "kernelspec": {
   "display_name": "Python 3",
   "language": "python",
   "name": "python3"
  },
  "language_info": {
   "codemirror_mode": {
    "name": "ipython",
    "version": 3
   },
   "file_extension": ".py",
   "mimetype": "text/x-python",
   "name": "python",
   "nbconvert_exporter": "python",
   "pygments_lexer": "ipython3",
   "version": "3.5.2"
  }
 },
 "nbformat": 4,
 "nbformat_minor": 2
}
