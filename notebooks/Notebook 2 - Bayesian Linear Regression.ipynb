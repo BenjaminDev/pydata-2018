{
 "cells": [
  {
   "cell_type": "markdown",
   "metadata": {},
   "source": [
    "# Bayesian Linear Regression\n",
    "\n",
    "Bayesian Linear Regression covers regression which is Linear in the parameters. Using a basic function, $\\phi(x)$ we can trivially include 'non-linear' functions under the bracket of Linear Regression.\n",
    "\n",
    "## The Model\n",
    "\n",
    "We model the weights, $\\mathbf{W}$, as having a prior Normal distribution.\n",
    "\n",
    "$\\mathbf{W} \\sim \\mathcal{N}(0, \\alpha^{-1}\\mathbf{I})$\n",
    "\n",
    "$\\mathbf{y} \\sim \\mathcal{N}(\\Phi \\mathbf{W}, \\beta^{-1} \\mathbf{I})$\n",
    "\n",
    "Where $\\Phi$ is the matrix of basis functions (rows correspond to samples, columns to features)."
   ]
  },
  {
   "cell_type": "markdown",
   "metadata": {},
   "source": [
    "## Inference\n",
    "\n",
    "This is a conjugate model, so we know $P(\\mathbf{W} \\mid \\mathbf{y}, \\mathbf{X})$ is also a Normal distribution.\n",
    "\n",
    "We can find this by first recognizing $P(\\mathbf{W}, \\mathbf{y} \\mid \\mathbf{X}) \\propto P(\\mathbf{W}\\mid \\mathbf{y} , \\mathbf{X})$, and discarding terms terms independent of $\\mathbf{W}$, combining what remains into a normal, and renormalizing (see PRML Bishop for more details).\n",
    "\n",
    "Doing this gives us:\n",
    "\n",
    "$P(\\mathbf{W} \\mid \\mathbf{y}, \\mathbf{X}) = \\mathcal{N}(\\mathbf{\\mu}, \\mathbf{\\Sigma})$\n",
    "\n",
    "$\\Sigma = (\\alpha \\mathbf{I} + \\beta \\mathbf{\\Phi}^{T}\\mathbf{\\Phi})^{-1}$<br/>\n",
    "$\\mu = \\beta \\Sigma \\mathbf{\\Phi}^{T} \\mathbf{y}$"
   ]
  },
  {
   "cell_type": "markdown",
   "metadata": {},
   "source": [
    "## Generating Data"
   ]
  },
  {
   "cell_type": "code",
   "execution_count": 41,
   "metadata": {
    "collapsed": true
   },
   "outputs": [],
   "source": [
    "import numpy as np\n",
    "import matplotlib.pyplot as plt\n",
    "from scipy.stats import multivariate_normal, norm\n",
    "%matplotlib inline"
   ]
  },
  {
   "cell_type": "code",
   "execution_count": 2,
   "metadata": {
    "collapsed": true
   },
   "outputs": [],
   "source": [
    "x = np.random.uniform(low=-3, high=5, size=(40,1))\n",
    "y = 0.1*x**3 - 3*x + 2 + np.random.normal(scale=0.3, size=x.shape)"
   ]
  },
  {
   "cell_type": "code",
   "execution_count": 3,
   "metadata": {
    "collapsed": false
   },
   "outputs": [
    {
     "data": {
      "text/plain": [
       "<matplotlib.collections.PathCollection at 0x7fd275cdcc18>"
      ]
     },
     "execution_count": 3,
     "metadata": {},
     "output_type": "execute_result"
    },
    {
     "data": {
      "image/png": "[encoded data removed]",
      "text/plain": [
       "<matplotlib.figure.Figure at 0x7fd29c5fa240>"
      ]
     },
     "metadata": {},
     "output_type": "display_data"
    }
   ],
   "source": [
    "plt.scatter(x,y)"
   ]
  },
  {
   "cell_type": "code",
   "execution_count": 4,
   "metadata": {
    "collapsed": true
   },
   "outputs": [],
   "source": [
    "def phi(x):\n",
    "    design_matrix = np.concatenate([np.ones(x.shape), x, x**2, x**3], axis=1)\n",
    "    return design_matrix\n",
    "    "
   ]
  },
  {
   "cell_type": "code",
   "execution_count": 5,
   "metadata": {
    "collapsed": false
   },
   "outputs": [
    {
     "name": "stdout",
     "output_type": "stream",
     "text": [
      "(40, 1) (40, 4)\n"
     ]
    }
   ],
   "source": [
    "print(x.shape, phi(x).shape)"
   ]
  },
  {
   "cell_type": "markdown",
   "metadata": {},
   "source": [
    "## Model\n",
    "\n"
   ]
  },
  {
   "cell_type": "code",
   "execution_count": 6,
   "metadata": {
    "collapsed": true
   },
   "outputs": [],
   "source": [
    "alpha = 1\n",
    "beta = 1/0.4\n",
    "\n",
    "posterior_precision =alpha * np.identity(phi(x).shape[1])+ beta * np.dot(phi(x).T, phi(x))\n",
    "posterior_mean = beta * np.dot(np.linalg.inv(posterior_precision),np.dot(phi(x).T, y))"
   ]
  },
  {
   "cell_type": "code",
   "execution_count": 7,
   "metadata": {
    "collapsed": false
   },
   "outputs": [
    {
     "data": {
      "image/png": "[encoded data removed]",
      "text/plain": [
       "<matplotlib.figure.Figure at 0x7fd275d1de80>"
      ]
     },
     "metadata": {},
     "output_type": "display_data"
    }
   ],
   "source": [
    "plt.scatter(x,y, c='k')\n",
    "ar = np.arange(-3,5, 0.1).reshape(-1,1)\n",
    "for i in range(4):\n",
    "    w_sample = np.random.multivariate_normal(posterior_mean.ravel(), \n",
    "                                             np.linalg.inv(posterior_precision))\n",
    "    plt.plot(ar, np.dot(phi(ar), w_sample), c='r')"
   ]
  },
  {
   "cell_type": "markdown",
   "metadata": {},
   "source": [
    "## Predictive Distribution\n",
    "\n",
    "Now we have the posterior, we can compute the preditive distribution:\n",
    "\n",
    "$P(y^{*} \\mid x^{*}) = \\int P(y^{*} \\mid w,  x^{*})P(w \\mid X, y) dw = \\mathcal{N}(t^{*} \\mid m_{n}^{T} \\phi(x), \\sigma_{n}^{2})$\n",
    "\n",
    "$m_{n} = Posterior \\ mean$<br/>\n",
    "$S_{n} = Posterior \\ Covariance$<br/>\n",
    "\n",
    "$\\sigma_{n}^{2} = \\frac{1}{\\beta} + \\phi (x) S_{n} \\phi(x)^{T}$<br/>"
   ]
  },
  {
   "cell_type": "code",
   "execution_count": 23,
   "metadata": {
    "collapsed": false
   },
   "outputs": [],
   "source": [
    "xs, ys = np.meshgrid(np.arange(-3,6,0.01), np.arange(-5,10,0.01))"
   ]
  },
  {
   "cell_type": "code",
   "execution_count": 25,
   "metadata": {
    "collapsed": false
   },
   "outputs": [],
   "source": [
    "px = phi(xs.reshape(-1,1))"
   ]
  },
  {
   "cell_type": "code",
   "execution_count": 26,
   "metadata": {
    "collapsed": true
   },
   "outputs": [],
   "source": [
    "sn = np.linalg.inv(posterior_precision)"
   ]
  },
  {
   "cell_type": "code",
   "execution_count": 29,
   "metadata": {
    "collapsed": false
   },
   "outputs": [],
   "source": [
    "predictive_var = 1/beta + (px @ sn * px).sum(axis=1)\n",
    "predictive_mean = px @ posterior_mean"
   ]
  },
  {
   "cell_type": "code",
   "execution_count": 33,
   "metadata": {
    "collapsed": false
   },
   "outputs": [],
   "source": [
    "z = norm.pdf(ys.ravel(), loc = predictive_mean.ravel(), scale=predictive_var**0.5)"
   ]
  },
  {
   "cell_type": "code",
   "execution_count": 40,
   "metadata": {
    "collapsed": false
   },
   "outputs": [
    {
     "data": {
      "text/plain": [
       "<matplotlib.collections.PathCollection at 0x7fd275be7320>"
      ]
     },
     "execution_count": 40,
     "metadata": {},
     "output_type": "execute_result"
    },
    {
     "data": {
      "image/png": "[encoded data removed]",
      "text/plain": [
       "<matplotlib.figure.Figure at 0x7fd26794ceb8>"
      ]
     },
     "metadata": {},
     "output_type": "display_data"
    }
   ],
   "source": [
    "plt.contourf(xs, ys, z.reshape(xs.shape))\n",
    "plt.colorbar()\n",
    "plt.scatter(x,y, c='r')"
   ]
  },
  {
   "cell_type": "code",
   "execution_count": 42,
   "metadata": {
    "collapsed": false
   },
   "outputs": [
    {
     "data": {
      "text/plain": [
       "(-5, 4)"
      ]
     },
     "execution_count": 42,
     "metadata": {},
     "output_type": "execute_result"
    },
    {
     "data": {
      "image/png": "[encoded data removed]",
      "text/plain": [
       "<matplotlib.figure.Figure at 0x7fd268fda630>"
      ]
     },
     "metadata": {},
     "output_type": "display_data"
    }
   ],
   "source": [
    "plt.contourf(xs, ys, z.reshape(xs.shape))\n",
    "plt.colorbar()\n",
    "plt.scatter(x,y, c='r')\n",
    "plt.xlim([4,6])\n",
    "plt.ylim([-5,4])"
   ]
  },
  {
   "cell_type": "markdown",
   "metadata": {},
   "source": [
    "# Summary\n",
    "\n",
    "Having a nice closed form solution makes things nice and straight forward."
   ]
  }
 ],
 "metadata": {
  "anaconda-cloud": {},
  "kernelspec": {
   "display_name": "Python [conda env:p3]",
   "language": "python",
   "name": "conda-env-p3-py"
  },
  "language_info": {
   "codemirror_mode": {
    "name": "ipython",
    "version": 3
   },
   "file_extension": ".py",
   "mimetype": "text/x-python",
   "name": "python",
   "nbconvert_exporter": "python",
   "pygments_lexer": "ipython3",
   "version": "3.5.2"
  }
 },
 "nbformat": 4,
 "nbformat_minor": 2
}
