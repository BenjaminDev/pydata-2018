{
 "cells": [
  {
   "cell_type": "code",
   "execution_count": 1,
   "metadata": {
    "collapsed": true
   },
   "outputs": [],
   "source": [
    "import numpy as np\n",
    "import torch\n",
    "import matplotlib.pyplot as plt\n",
    "\n",
    "%matplotlib inline"
   ]
  },
  {
   "cell_type": "code",
   "execution_count": 10,
   "metadata": {
    "collapsed": true
   },
   "outputs": [],
   "source": [
    "class Discriminator(torch.nn.Module):\n",
    "    def __init__(self, in_features, out_features):\n",
    "        super(Discriminator, self).__init__()\n",
    "        self.l1 = torch.nn.Linear(in_features, 300)\n",
    "        self.l2 = torch.nn.Linear(300, 200)\n",
    "        self.l3 = torch.nn.Linear(200, 100)\n",
    "        self.l4 = torch.nn.Linear(100, out_features)\n",
    "        self.relu = torch.nn.ReLU()\n",
    "        self.bce = torch.nn.BCEWithLogitsLoss()\n",
    "        \n",
    "    def forward(self, x):\n",
    "        a1 = self.relu(self.l1(x))\n",
    "        a2 = self.relu(self.l2(a1))\n",
    "        a3 = self.relu(self.l3(a2))\n",
    "        return self.l4(a3)\n",
    "    \n",
    "    def loss(self, x, y):\n",
    "        y_hat_logits = self.forward(x)\n",
    "        return self.bce(y_hat_logits, y)\n",
    "    "
   ]
  },
  {
   "cell_type": "code",
   "execution_count": 2,
   "metadata": {
    "collapsed": true
   },
   "outputs": [],
   "source": [
    "x_1 = np.random.normal(size=(200,2))\n",
    "x_2 = np.random.normal(loc=np.array([3.0,3.]), size=(200,2))"
   ]
  },
  {
   "cell_type": "code",
   "execution_count": 5,
   "metadata": {
    "collapsed": false
   },
   "outputs": [
    {
     "data": {
      "text/plain": [
       "<matplotlib.collections.PathCollection at 0x7fbdfa2a2fd0>"
      ]
     },
     "execution_count": 5,
     "metadata": {},
     "output_type": "execute_result"
    },
    {
     "data": {
      "image/png": "[encoded data removed]",
      "text/plain": [
       "<matplotlib.figure.Figure at 0x7fbdfa3503c8>"
      ]
     },
     "metadata": {},
     "output_type": "display_data"
    }
   ],
   "source": [
    "plt.scatter(x_1[:, 0], x_1[:, 1])\n",
    "plt.scatter(x_2[:, 0], x_2[:, 1], c='r')"
   ]
  },
  {
   "cell_type": "code",
   "execution_count": 8,
   "metadata": {
    "collapsed": true
   },
   "outputs": [],
   "source": [
    "x = np.concatenate([x_1, x_2], axis=0)\n",
    "y = np.concatenate([np.zeros(x_1.shape[0]), np.ones(x_2.shape[0])], axis=0)"
   ]
  },
  {
   "cell_type": "code",
   "execution_count": null,
   "metadata": {
    "collapsed": true
   },
   "outputs": [],
   "source": []
  }
 ],
 "metadata": {
  "kernelspec": {
   "display_name": "Python [conda env:p3]",
   "language": "python",
   "name": "conda-env-p3-py"
  },
  "language_info": {
   "codemirror_mode": {
    "name": "ipython",
    "version": 3
   },
   "file_extension": ".py",
   "mimetype": "text/x-python",
   "name": "python",
   "nbconvert_exporter": "python",
   "pygments_lexer": "ipython3",
   "version": "3.5.2"
  }
 },
 "nbformat": 4,
 "nbformat_minor": 1
}
