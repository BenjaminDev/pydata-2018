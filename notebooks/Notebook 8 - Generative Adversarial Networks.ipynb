{
 "cells": [
  {
   "cell_type": "markdown",
   "metadata": {},
   "source": [
    "# Generative Adversarial Networks"
   ]
  },
  {
   "cell_type": "code",
   "execution_count": 3,
   "metadata": {
    "collapsed": true
   },
   "outputs": [],
   "source": [
    "import numpy as np\n",
    "import torch\n",
    "import matplotlib.pyplot as plt\n",
    "\n",
    "\n",
    "%matplotlib inline"
   ]
  },
  {
   "cell_type": "code",
   "execution_count": 27,
   "metadata": {
    "collapsed": true
   },
   "outputs": [],
   "source": [
    "class Generator(torch.nn.Module):\n",
    "    def __init__(self, in_features, out_features):\n",
    "        super(Generator, self).__init__()\n",
    "        self.l1_size = 10\n",
    "        self.l2_size = 10\n",
    "        self.relu = torch.nn.ReLU()\n",
    "        self.l1 = torch.nn.Linear(in_features, self.l1_size)\n",
    "        self.l2 = torch.nn.Linear(self.l1_size, self.l2_size)\n",
    "        self.l3 = torch.nn.Linear(self.l2_size, out_features)\n",
    "        \n",
    "    def forward(self,z):\n",
    "        \n",
    "        a1 = self.relu(self.l1(z))\n",
    "        a2 = self.relu(self.l2(a1))\n",
    "        a3 = self.l3(a2)\n",
    "        return a3\n",
    "    \n",
    "    \n",
    "class Discriminator(torch.nn.Module):\n",
    "    def __init__(self, in_features, out_features):\n",
    "        super(Discriminator, self).__init__()\n",
    "        self.l1_size = 10\n",
    "        self.l2_size = 10\n",
    "        self.relu = torch.nn.ReLU()\n",
    "        self.sigmoid = torch.nn.Sigmoid()\n",
    "        self.l1 = torch.nn.Linear(in_features, self.l1_size)\n",
    "        self.l2 = torch.nn.Linear(self.l1_size, self.l2_size)\n",
    "        self.l3 = torch.nn.Linear(self.l2_size, out_features)\n",
    "        \n",
    "    def forward(self, x):\n",
    "        a1 = self.relu(self.l1(x))\n",
    "        a2 = self.relu(self.l2(a1))\n",
    "        a3 = self.l3(a2)\n",
    "        return a3\n",
    "    \n",
    "    def forward_with_sigmoid(self, x):\n",
    "        return self.Sigmoid(self.forward(x))"
   ]
  },
  {
   "cell_type": "code",
   "execution_count": 38,
   "metadata": {
    "collapsed": true
   },
   "outputs": [],
   "source": [
    "cov = 0.2*np.eye(2)+0.8\n",
    "x_real = np.random.multivariate_normal(np.ones(2), cov, size=2000)"
   ]
  },
  {
   "cell_type": "code",
   "execution_count": 29,
   "metadata": {},
   "outputs": [
    {
     "data": {
      "text/plain": [
       "<matplotlib.collections.PathCollection at 0x7fd81dd1af98>"
      ]
     },
     "execution_count": 29,
     "metadata": {},
     "output_type": "execute_result"
    },
    {
     "data": {
      "image/png": "[encoded data removed]",
      "text/plain": [
       "<matplotlib.figure.Figure at 0x7fd81dd05e80>"
      ]
     },
     "metadata": {},
     "output_type": "display_data"
    }
   ],
   "source": [
    "plt.scatter(x_real[:, 0], x_real[:,1])"
   ]
  },
  {
   "cell_type": "code",
   "execution_count": 42,
   "metadata": {},
   "outputs": [],
   "source": [
    "G = Generator(2,2)\n",
    "D = Discriminator(2,1)\n",
    "G_opt = torch.optim.Adam(G.parameters())\n",
    "D_opt = torch.optim.Adam(D.parameters())\n",
    "\n",
    "x_t_real = torch.from_numpy(x_real).float()\n",
    "y = torch.from_numpy(np.concatenate([np.zeros(2000), np.ones(2000)])).float().reshape(-1,1)\n",
    "for i in range(1):\n",
    "    z = torch.from_numpy(np.random.normal(size=(2000,2))).float()\n",
    "    x_fake = G.forward(z)\n",
    "    X = torch.cat([x_fake, x_t_real])\n",
    "    y_hat = D.forward(X)\n",
    "    loss = torch.nn.functional.binary_cross_entropy_with_logits(y_hat, y)"
   ]
  },
  {
   "cell_type": "code",
   "execution_count": 43,
   "metadata": {},
   "outputs": [
    {
     "data": {
      "text/plain": [
       "\n",
       " 0.6769\n",
       "[torch.FloatTensor of size ()]"
      ]
     },
     "execution_count": 43,
     "metadata": {},
     "output_type": "execute_result"
    }
   ],
   "source": []
  },
  {
   "cell_type": "code",
   "execution_count": null,
   "metadata": {
    "collapsed": true
   },
   "outputs": [],
   "source": []
  }
 ],
 "metadata": {
  "kernelspec": {
   "display_name": "Python 3",
   "language": "python",
   "name": "python3"
  },
  "language_info": {
   "codemirror_mode": {
    "name": "ipython",
    "version": 3
   },
   "file_extension": ".py",
   "mimetype": "text/x-python",
   "name": "python",
   "nbconvert_exporter": "python",
   "pygments_lexer": "ipython3",
   "version": "3.6.2"
  }
 },
 "nbformat": 4,
 "nbformat_minor": 2
}
