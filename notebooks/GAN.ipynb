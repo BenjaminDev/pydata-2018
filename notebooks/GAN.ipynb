{
 "cells": [
  {
   "cell_type": "code",
   "execution_count": 2,
   "metadata": {},
   "outputs": [],
   "source": [
    "import torch\n",
    "from torch.autograd import Variable\n",
    "import numpy as np\n",
    "\n",
    "import matplotlib.pyplot as plt\n",
    "%matplotlib inline"
   ]
  },
  {
   "cell_type": "code",
   "execution_count": null,
   "metadata": {},
   "outputs": [],
   "source": [
    "class Generator(torch.nn.Module):\n",
    "    def __init__(self, input_size, output_size):\n",
    "        self.relu = torch.nn.ReLU()\n",
    "        self.softmax = torch.nn.Softmax()\n",
    "        \n",
    "        self.l1 = torch.nn.Linear(input_size, 200)\n",
    "        self.l2 = torch.nn.Linear(200, 200)\n",
    "        self.l3 = torch.nn.Linear(200, output_size)\n",
    "        \n",
    "    def forward(self, x):\n",
    "        layer_1 = self.relu(self.l1(x))\n",
    "        layer_2 = self.relu(self.l2(layer_1))\n",
    "        return self.l3(layer_2)\n",
    "    \n",
    "class Discriminator(torch.nn.Module):\n",
    "    def __init__(self, input_size, output_size):\n",
    "        self.relu = torch.nn.ReLU()\n",
    "        self.softmax = torch.nn.Softmax()\n",
    "        \n",
    "        self.l1 = torch.nn.Linear(input_size, 200)\n",
    "        self.l2 = torch.nn.Linear(200, 200)\n",
    "        self.l3 = torch.nn.Linear(200, output_size)\n",
    "        \n",
    "    def forward(self, x):\n",
    "        layer_1 = self.relu(self.l1(x))\n",
    "        layer_2 = self.relu(self.l2(layer_1))\n",
    "        return self.softmax(self.l3(layer_2))\n",
    "    \n"
   ]
  }
 ],
 "metadata": {
  "kernelspec": {
   "display_name": "Python 3",
   "language": "python",
   "name": "python3"
  },
  "language_info": {
   "codemirror_mode": {
    "name": "ipython",
    "version": 3
   },
   "file_extension": ".py",
   "mimetype": "text/x-python",
   "name": "python",
   "nbconvert_exporter": "python",
   "pygments_lexer": "ipython3",
   "version": "3.5.2"
  }
 },
 "nbformat": 4,
 "nbformat_minor": 2
}
