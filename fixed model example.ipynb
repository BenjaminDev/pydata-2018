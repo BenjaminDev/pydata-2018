{
 "cells": [
  {
   "cell_type": "code",
   "execution_count": 1,
   "metadata": {},
   "outputs": [],
   "source": [
    "import torch\n",
    "import numpy as np\n",
    "import sklearn as skl\n",
    "from torch.autograd import Variable\n",
    "from torch.nn import Parameter"
   ]
  },
  {
   "cell_type": "code",
   "execution_count": 2,
   "metadata": {},
   "outputs": [],
   "source": [
    "import matplotlib.pyplot as plt\n",
    "%matplotlib inline"
   ]
  },
  {
   "cell_type": "code",
   "execution_count": 121,
   "metadata": {},
   "outputs": [],
   "source": [
    "class NormalDist(torch.nn.Module):\n",
    "    \n",
    "    def __init__(self,  mu=np.zeros(1), sigma=np.ones(1), param=True):\n",
    "        super(NormalDist, self).__init__()\n",
    "        if param:\n",
    "            self.mu = Parameter(torch.from_numpy(mu), requires_grad=True)\n",
    "            self.log_sigma = Parameter(torch.from_numpy(np.log(sigma)), requires_grad=True)\n",
    "        else:\n",
    "            self.mu = Variable(torch.from_numpy(mu), requires_grad=True)\n",
    "            self.log_sigma = Variable(torch.from_numpy(np.log(sigma)), requires_grad=True)\n",
    "        \n",
    "    def log_pdf(self, x, mu=None, sigma=None):\n",
    "        if mu is None:\n",
    "            mu = self.mu\n",
    "        if sigma is None:\n",
    "            sigma = torch.exp(self.log_sigma)\n",
    "        normalizer = -0.5*torch.log(2*np.pi*sigma**2)\n",
    "        exponent = -0.5 * ((x-mu)**2)/(sigma**2)\n",
    "        return normalizer + exponent\n",
    "    \n",
    "    def pdf(self, x, mu=None, sigma=None):\n",
    "        return torch.exp(self.log_pdf(x, mu, sigma))\n",
    "    \n",
    "    def sample(self, shape):\n",
    "        z = np.random.normal(size=shape)\n",
    "        z_t = Variable(torch.from_numpy(z))\n",
    "        return self.mu + z_t * torch.exp(self.log_sigma)\n",
    "        \n",
    "        \n",
    "        \n",
    "class LogNormalDist(torch.nn.Module):\n",
    "    def __init__(self, mu=np.zeros(1), s=np.ones(1), param=True):\n",
    "        super(LogNormalDist, self).__init__()\n",
    "        if param:\n",
    "            self.mu = Parameter(torch.from_numpy(mu))\n",
    "            self.log_s = Parameter(torch.from_numpy(np.log(s)))\n",
    "        else:\n",
    "            self.mu = Variable(torch.from_numpy(mu), requires_grad=True)\n",
    "            self.log_s = Variable(torch.from_numpy(np.log(s)), requires_grad=True)\n",
    "        \n",
    "    def log_pdf(self, x):\n",
    "        normalizer = -0.5*torch.log((x**2)*torch.exp(2*self.log_s)*2*np.pi)\n",
    "        exponent = - ((torch.log(x)-self.mu)**2)/(2*torch.exp(2*self.log_s))\n",
    "        return normalizer + exponent\n",
    "    \n",
    "    def pdf(self, x):\n",
    "        return torch.exp(self.log_pdf(x))\n",
    "    \n",
    "    def sample(self, n):\n",
    "        z = np.random.normal(size=(len(self.mu), n))\n",
    "        z_t = Variable(torch.from_numpy(z))\n",
    "        return torch.exp(self.mu + z_t * torch.exp(self.log_s))\n",
    "        "
   ]
  },
  {
   "cell_type": "code",
   "execution_count": 122,
   "metadata": {},
   "outputs": [],
   "source": [
    "m = NormalDist(np.zeros(1), np.ones(1))\n",
    "lm = LogNormalDist(np.zeros((1)), np.ones((1)))"
   ]
  },
  {
   "cell_type": "markdown",
   "metadata": {},
   "source": [
    " $P(\\sigma) \\sim \\mathcal{LogN}(\\sigma \\mid 0, 1)$\n",
    " \n",
    " $P(y \\mid \\sigma) \\sim \\mathcal{N}(y \\mid \\sigma,1)$\n",
    " \n",
    " This is a non-conjugate model. We want to find $P(\\sigma \\mid y)$, which we assume is intractable.\n",
    " \n"
   ]
  },
  {
   "cell_type": "markdown",
   "metadata": {},
   "source": [
    "## Procedure\n",
    "\n",
    "* Generate data, a batch of `y` points, in this case by ancestral sampling.\n",
    "\n",
    "* Decide on approximation class and instantiate q(\\sigma).\n",
    "\n",
    "* Sample `n_samples` from q using reparametrization trick.\n",
    "\n",
    "* Compute $E_q[log \\ P(y \\mid \\sigma)]$ approximately by $\\frac{1}{N} \\sum_{i=1}^{N}log \\ P(y \\mid \\sigma)$.\n",
    "\n",
    "* Compute $E_q[log \\ q(\\sigma) - log \\ P(\\sigma)]$ by the same method.\n",
    "\n",
    "* Sum to make the ELBO, and take gradient step and repeat!"
   ]
  },
  {
   "cell_type": "code",
   "execution_count": 230,
   "metadata": {},
   "outputs": [],
   "source": [
    "N = 1000\n",
    "\n",
    "X = np.random.lognormal(size=(N, 1))\n",
    "T = np.random.normal(loc=X)"
   ]
  },
  {
   "cell_type": "code",
   "execution_count": 231,
   "metadata": {},
   "outputs": [
    {
     "name": "stdout",
     "output_type": "stream",
     "text": [
      "[ 10183.16398385]\n",
      "[ 3907.92149339]\n",
      "[ 3907.79901415]\n",
      "[ 3907.77649053]\n",
      "[ 3907.79023736]\n"
     ]
    }
   ],
   "source": [
    "q = LogNormalDist(param=True)\n",
    "prior = LogNormalDist(param=False)\n",
    "p = NormalDist(mu=np.zeros((1,1)))\n",
    "opt = torch.optim.Adam(params=q.parameters(), lr=0.4)\n",
    "mask = np.arange(s.shape[0])\n",
    "batch_size=1000\n",
    "n_samples=100\n",
    "for t in range(5000):\n",
    "    \n",
    "    y = Variable(torch.from_numpy(X))\n",
    "    target = Variable(torch.from_numpy(T))\n",
    "    s = q.sample(n_samples)\n",
    "    ll = torch.mean(torch.sum(p.log_pdf(target, mu=s), dim=0))\n",
    "    kld = torch.mean( q.log_pdf(s)-prior.log_pdf(s))\n",
    "    \n",
    "    loss = -(ll - kld)\n",
    "    if t%1000 == 0:\n",
    "        print(loss.data.numpy())\n",
    "    opt.zero_grad()\n",
    "    loss.backward()\n",
    "    \n",
    "    opt.step()"
   ]
  },
  {
   "cell_type": "code",
   "execution_count": 232,
   "metadata": {},
   "outputs": [
    {
     "data": {
      "text/plain": [
       "Parameter containing:\n",
       " 0.4266\n",
       "[torch.DoubleTensor of size 1]"
      ]
     },
     "execution_count": 232,
     "metadata": {},
     "output_type": "execute_result"
    }
   ],
   "source": [
    "q.mu"
   ]
  },
  {
   "cell_type": "code",
   "execution_count": 233,
   "metadata": {},
   "outputs": [
    {
     "data": {
      "text/plain": [
       "Variable containing:\n",
       "1.00000e-02 *\n",
       "  2.0311\n",
       "[torch.DoubleTensor of size 1]"
      ]
     },
     "execution_count": 233,
     "metadata": {},
     "output_type": "execute_result"
    }
   ],
   "source": [
    "torch.exp(q.log_s)"
   ]
  },
  {
   "cell_type": "code",
   "execution_count": 238,
   "metadata": {},
   "outputs": [
    {
     "data": {
      "text/plain": [
       "[<matplotlib.lines.Line2D at 0x7f5eff4107b8>]"
      ]
     },
     "execution_count": 238,
     "metadata": {},
     "output_type": "execute_result"
    },
    {
     "data": {
      "image/png": "[encoded data removed]",
      "text/plain": [
       "<matplotlib.figure.Figure at 0x7f5ef6931710>"
      ]
     },
     "metadata": {},
     "output_type": "display_data"
    }
   ],
   "source": [
    "from scipy.stats import lognorm, norm\n",
    "\n",
    "l = lognorm(loc=0.4266, s=0.02)\n",
    "a = np.arange(1.2, 1.9, 0.01)\n",
    "plt.plot(a, l.pdf(a))"
   ]
  },
  {
   "cell_type": "markdown",
   "metadata": {},
   "source": [
    "## Validation"
   ]
  },
  {
   "cell_type": "code",
   "execution_count": 235,
   "metadata": {},
   "outputs": [],
   "source": [
    "import pymc3 as pm\n",
    "import numpy as np\n",
    "\n",
    "%matplotlib inline\n",
    "from collections import defaultdict\n",
    "\n",
    "import matplotlib.pyplot as plt\n",
    "import numpy as np\n",
    "import pymc3 as pm\n",
    "import scipy.stats as st\n",
    "\n",
    "plt.style.use('seaborn-darkgrid')"
   ]
  },
  {
   "cell_type": "code",
   "execution_count": 236,
   "metadata": {},
   "outputs": [
    {
     "name": "stderr",
     "output_type": "stream",
     "text": [
      "100%|██████████| 10000/10000 [00:04<00:00, 2149.99it/s]\n"
     ]
    }
   ],
   "source": [
    "basic_model = pm.Model()\n",
    "a = np.random.normal(loc=np.random.lognormal(size=1000))\n",
    "with basic_model:\n",
    "\n",
    "    prior = pm.Lognormal('p',mu=0, tau=1)\n",
    "    likelihood = pm.Normal('like',mu=prior, tau=1.0, observed=T)\n",
    "    \n",
    "\n",
    "    trace = pm.sample(10000, pm.NUTS())"
   ]
  },
  {
   "cell_type": "code",
   "execution_count": 237,
   "metadata": {},
   "outputs": [
    {
     "data": {
      "image/png": "[encoded data removed]",
      "text/plain": [
       "<matplotlib.figure.Figure at 0x7f5ef65d11d0>"
      ]
     },
     "metadata": {},
     "output_type": "display_data"
    }
   ],
   "source": [
    "pm.traceplot(trace);"
   ]
  }
 ],
 "metadata": {
  "kernelspec": {
   "display_name": "Python 3",
   "language": "python",
   "name": "python3"
  },
  "language_info": {
   "codemirror_mode": {
    "name": "ipython",
    "version": 3
   },
   "file_extension": ".py",
   "mimetype": "text/x-python",
   "name": "python",
   "nbconvert_exporter": "python",
   "pygments_lexer": "ipython3",
   "version": "3.5.2"
  }
 },
 "nbformat": 4,
 "nbformat_minor": 2
}
